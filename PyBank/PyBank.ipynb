{
 "cells": [
  {
   "cell_type": "code",
   "execution_count": 1,
   "metadata": {},
   "outputs": [],
   "source": [
    "# Import libraries\n",
    "import numpy as np\n",
    "import pandas as pd"
   ]
  },
  {
   "cell_type": "code",
   "execution_count": 2,
   "metadata": {},
   "outputs": [
    {
     "data": {
      "text/html": [
       "<div>\n",
       "<style scoped>\n",
       "    .dataframe tbody tr th:only-of-type {\n",
       "        vertical-align: middle;\n",
       "    }\n",
       "\n",
       "    .dataframe tbody tr th {\n",
       "        vertical-align: top;\n",
       "    }\n",
       "\n",
       "    .dataframe thead th {\n",
       "        text-align: right;\n",
       "    }\n",
       "</style>\n",
       "<table border=\"1\" class=\"dataframe\">\n",
       "  <thead>\n",
       "    <tr style=\"text-align: right;\">\n",
       "      <th></th>\n",
       "      <th>Date</th>\n",
       "      <th>Profit/Losses</th>\n",
       "    </tr>\n",
       "  </thead>\n",
       "  <tbody>\n",
       "    <tr>\n",
       "      <th>0</th>\n",
       "      <td>Jan-2010</td>\n",
       "      <td>867884</td>\n",
       "    </tr>\n",
       "    <tr>\n",
       "      <th>1</th>\n",
       "      <td>Feb-2010</td>\n",
       "      <td>984655</td>\n",
       "    </tr>\n",
       "    <tr>\n",
       "      <th>2</th>\n",
       "      <td>Mar-2010</td>\n",
       "      <td>322013</td>\n",
       "    </tr>\n",
       "    <tr>\n",
       "      <th>3</th>\n",
       "      <td>Apr-2010</td>\n",
       "      <td>-69417</td>\n",
       "    </tr>\n",
       "    <tr>\n",
       "      <th>4</th>\n",
       "      <td>May-2010</td>\n",
       "      <td>310503</td>\n",
       "    </tr>\n",
       "  </tbody>\n",
       "</table>\n",
       "</div>"
      ],
      "text/plain": [
       "       Date  Profit/Losses\n",
       "0  Jan-2010         867884\n",
       "1  Feb-2010         984655\n",
       "2  Mar-2010         322013\n",
       "3  Apr-2010         -69417\n",
       "4  May-2010         310503"
      ]
     },
     "execution_count": 2,
     "metadata": {},
     "output_type": "execute_result"
    }
   ],
   "source": [
    "# read in csvfile\n",
    "df = pd.read_csv('budget_data.csv',header=0)\n",
    "df.head()"
   ]
  },
  {
   "cell_type": "code",
   "execution_count": 3,
   "metadata": {},
   "outputs": [],
   "source": [
    "# convert Profit/Losses column into numpy array for quick math\n",
    "df2 = df['Profit/Losses'].values\n",
    "\n",
    "## calculate parameters ##\n",
    "total_months = len(df['Profit/Losses']) # amount of time we have stock data\n",
    "total_profit = df2.sum() # sum of all profits\n",
    "avg_change = np.round(np.diff(df2).mean(),2) # use np.diff to calculate the change between rows. take mean\n",
    "greatest_inc = np.diff(df2).max() # max change\n",
    "greatest_dec = np.diff(df2).min() # min change\n",
    "\n",
    "## use parameters to calculate corresponding location ##\n",
    "\n",
    "# store differences between rows as a dataframe to use .loc\n",
    "list_diff = [x for x in np.diff(df2)]\n",
    "df3 = pd.DataFrame(list_diff)\n",
    "df3.columns = ['Diff']\n",
    "\n",
    "# find the greatest inc/dec location and grab row # with .index[0]. Increment by 1 to consider o\n",
    "greatest_inc_month = df3.loc[df3[\"Diff\"]==greatest_inc,:].index[0] + 1\n",
    "greatest_inc_month = df[\"Date\"][greatest_inc_month]\n",
    "greatest_dec_month = df3.loc[df3[\"Diff\"]==greatest_dec,:].index[0] + 1\n",
    "greatest_dec_month = df[\"Date\"][greatest_dec_month]"
   ]
  },
  {
   "cell_type": "code",
   "execution_count": 4,
   "metadata": {},
   "outputs": [
    {
     "name": "stdout",
     "output_type": "stream",
     "text": [
      "Total Months:  86\n",
      "Total: $ 38382578\n",
      "Average Change: $ -2315.12\n",
      "Greatest Increases in Profits:  Feb-2012  $ 1926159\n",
      "Greatest Decrease in Profits:  Sep-2013  $ -2196167\n"
     ]
    }
   ],
   "source": [
    "# print summary to terminal\n",
    "print(\"Total Months: \", len(df['Profit/Losses']))\n",
    "print(\"Total: $\", df2.sum())\n",
    "print(\"Average Change: $\", np.round(np.diff(df2).mean(),2))\n",
    "print(\"Greatest Increases in Profits: \",greatest_inc_month, \" $\", np.diff(df2).max())\n",
    "print(\"Greatest Decrease in Profits: \",greatest_dec_month,\" $\", np.diff(df2).min())"
   ]
  },
  {
   "cell_type": "code",
   "execution_count": 5,
   "metadata": {},
   "outputs": [],
   "source": [
    "# format output file\n",
    "import sys\n",
    "\n",
    "sys.stdout = open('output.txt','w')\n",
    "print(\"Total Months: \", len(df['Profit/Losses']))\n",
    "print(\"Total: $\", df2.sum())\n",
    "print(\"Average Change: $\", np.round(np.diff(df2).mean(),2))\n",
    "print(\"Greatest Increases in Profits: \",greatest_inc_month, \" $\", np.diff(df2).max())\n",
    "print(\"Greatest Decrease in Profits: \",greatest_dec_month,\" $\", np.diff(df2).min())"
   ]
  }
 ],
 "metadata": {
  "kernelspec": {
   "display_name": "Python 3",
   "language": "python",
   "name": "python3"
  },
  "language_info": {
   "codemirror_mode": {
    "name": "ipython",
    "version": 3
   },
   "file_extension": ".py",
   "mimetype": "text/x-python",
   "name": "python",
   "nbconvert_exporter": "python",
   "pygments_lexer": "ipython3",
   "version": "3.7.3"
  }
 },
 "nbformat": 4,
 "nbformat_minor": 2
}
