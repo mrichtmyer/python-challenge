{
 "cells": [
  {
   "cell_type": "markdown",
   "metadata": {},
   "source": [
    "# Create Paragraph Summary Description\n",
    "## Include functionality to read in paragraphs from text file, and characterize by word count, sentence count, avg word size, etc."
   ]
  },
  {
   "cell_type": "code",
   "execution_count": 1,
   "metadata": {},
   "outputs": [],
   "source": [
    "# import libraries\n",
    "import re\n",
    "import numpy as np"
   ]
  },
  {
   "cell_type": "code",
   "execution_count": 6,
   "metadata": {},
   "outputs": [],
   "source": [
    "# declare function paragraph_summary to be called on for multiple files for a simple summary\n",
    "def paragraph_summary(filename):\n",
    "    \"\"\" Docstring: paragraph_summary takes an input txt file (filename, written as a path) and \n",
    "    describes basic features of the paragraph including word count, sentence count, average sentence length,\n",
    "    and average word length. This function does not return anything and just prints to console.\"\"\"\n",
    "    # read in file\n",
    "    # Open the file in \"read\" mode ('r') and store the contents in the variable \"text\"\n",
    "    with open(filename, 'r') as text:\n",
    "        # Store all of the text inside a variable called \"lines\"\n",
    "        lines = text.read()\n",
    "        print(lines) # supress this line if we don't want the paragraph to be displayed to console\n",
    "\n",
    "    ## Describe Paragraph ##\n",
    "    # word count\n",
    "    word_count = len(lines.split(' '))\n",
    "\n",
    "    # sentence count\n",
    "    sentences = re.split(\"(?<=[.!?]) +\", lines)\n",
    "    sentence_count = len(sentences)\n",
    "\n",
    "    # average sentence length\n",
    "    avg_sentence_len = word_count/sentence_count\n",
    "\n",
    "    # average word length\n",
    "    word_length = [len(word) for word in lines.split(' ')]\n",
    "    word_length = np.asarray(word_length)\n",
    "    word_length_avg = np.round(word_length.mean(),decimals=1)\n",
    "    \n",
    "    print(\"Paragraph Analysis\")\n",
    "    print(\"---------------------\")\n",
    "    print(f\"Approx. Word Count: {word_count}\")\n",
    "    print(f\"Approx. Sentence Count: {sentence_count}\")\n",
    "    print(f\"Average Sentence Length: {avg_sentence_len}\")\n",
    "    print(f\"Average Letters per Word: {word_length_avg}\")\n",
    "    \n",
    "    return None\n"
   ]
  },
  {
   "cell_type": "markdown",
   "metadata": {},
   "source": [
    "## Test function to get description of paragraphs"
   ]
  },
  {
   "cell_type": "code",
   "execution_count": 3,
   "metadata": {},
   "outputs": [
    {
     "name": "stdout",
     "output_type": "stream",
     "text": [
      "Gene expression in mammals is regulated by noncoding elements that can affect physiology and disease, yet the functions and target genes of most noncoding elements remain unknown. We present a high-throughput approach that uses clustered regularly interspaced short palindromic repeats (CRISPR) interference (CRISPRi) to discover regulatory elements and identify their target genes. We assess >1 megabase of sequence in the vicinity of two essential transcription factors, MYC and GATA1, and identify nine distal enhancers that control gene expression and cellular proliferation. Quantitative features of chromatin state and chromosome conformation distinguish the seven enhancers that regulate MYC from other elements that do not, suggesting a strategy for predicting enhancer–promoter connectivity. This CRISPRi-based approach can be applied to dissect transcriptional networks and interpret the contributions of noncoding genetic variation to human disease.\n",
      "Paragraph Analysis\n",
      "---------------------\n",
      "Approx. Word Count: 130\n",
      "Approx. Sentence Count: 5\n",
      "Average Sentence Length: 26.0\n",
      "Average Letters per Word: 6.4\n"
     ]
    }
   ],
   "source": [
    "paragraph_summary(\"paragraph_1.txt\")"
   ]
  },
  {
   "cell_type": "code",
   "execution_count": 4,
   "metadata": {},
   "outputs": [
    {
     "name": "stdout",
     "output_type": "stream",
     "text": [
      "When Jackie Chan saw an Oscar at Sylvester Stallone's house 23 years ago, he said that was the moment he decided he wanted one.\n",
      "\n",
      "On Saturday at the annual Governors Awards, the Chinese actor and martial arts star finally received his little gold statuette, an honorary Oscar for his decades of work in film.\n",
      "\n",
      "\"After 56 years in the film industry, making more than 200 films, after so many bones, finally,\" Chan, 62, quipped at the star-studded gala dinner while holding his Oscar.\n",
      "\n",
      "The actor recalled watching the ceremony with his parents and his father always asking him why he didn't have Hollywood's top accolade despite having made so many movies.\n",
      "\n",
      "He praised his hometown Hong Kong for making him \"proud to be Chinese,\" and thanked his fans, saying they were the reason \"I continue to make movies, jumping through windows, kicking and punching, breaking my bones.\"\n",
      "\n",
      "The actor was introduced by his \"Rush Hour\" co-star Chris Tucker, actress Michelle Yeoh and Tom Hanks, who referred to him as \"Jackie 'Chantastic' Chan.\"\n",
      "\n",
      "Hanks said it was especially gratifying to be able to acknowledge Chan's work because martial arts and action comedy films were two genres often overlooked during awards season.\n",
      "\n",
      "The Academy of Motion Pictures Arts and Sciences, hosts of the annual ceremony, also bestowed honorary Oscars on British film editor Anne V. Coates, casting director Lynn Stalmaster and prolific documentarian Frederick Wiseman.\n",
      "\n",
      "The evening was attended by Hollywood's elite, including Denzel Washington, Lupita Nyong'o, Nicole Kidman, Emma Stone, Ryan Reynolds, Amy Adams and Dev Patel.\n",
      "\n",
      "Stalmaster, 88, credited with securing career-defining roles for actors such as Jeff Bridges, Andy Garcia, Christopher Reeve and John Travolta, is the first casting director to receive an Oscar.\n",
      "Paragraph Analysis\n",
      "---------------------\n",
      "Approx. Word Count: 276\n",
      "Approx. Sentence Count: 2\n",
      "Average Sentence Length: 138.0\n",
      "Average Letters per Word: 5.5\n"
     ]
    }
   ],
   "source": [
    "paragraph_summary(\"paragraph_2.txt\")"
   ]
  },
  {
   "cell_type": "code",
   "execution_count": 5,
   "metadata": {},
   "outputs": [
    {
     "name": "stdout",
     "output_type": "stream",
     "text": [
      "Adam Wayne, the conqueror, with his face flung back and his mane like a lion's, stood with his great sword point upwards, the red raiment of his office flapping around him like the red wings of an archangel. And the King saw, he knew not how, something new and overwhelming. The great green trees and the great red robes swung together in the wind. The preposterous masquerade, born of his own mockery, towered over him and embraced the world. This was the normal, this was sanity, this was nature, and he himself, with his rationality, and his detachment and his black frock-coat, he was the exception and the accident a blot of black upon a world of crimson and gold.\n",
      "Paragraph Analysis\n",
      "---------------------\n",
      "Approx. Word Count: 120\n",
      "Approx. Sentence Count: 5\n",
      "Average Sentence Length: 24.0\n",
      "Average Letters per Word: 4.6\n"
     ]
    }
   ],
   "source": [
    "paragraph_summary(\"paragraph_3.txt\")"
   ]
  }
 ],
 "metadata": {
  "kernelspec": {
   "display_name": "Python 3",
   "language": "python",
   "name": "python3"
  },
  "language_info": {
   "codemirror_mode": {
    "name": "ipython",
    "version": 3
   },
   "file_extension": ".py",
   "mimetype": "text/x-python",
   "name": "python",
   "nbconvert_exporter": "python",
   "pygments_lexer": "ipython3",
   "version": "3.7.3"
  }
 },
 "nbformat": 4,
 "nbformat_minor": 2
}
