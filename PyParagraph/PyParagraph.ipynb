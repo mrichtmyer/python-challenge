{
 "cells": [
  {
   "cell_type": "code",
   "execution_count": 28,
   "metadata": {},
   "outputs": [],
   "source": [
    "import re\n",
    "import numpy as np"
   ]
  },
  {
   "cell_type": "code",
   "execution_count": 39,
   "metadata": {},
   "outputs": [
    {
     "name": "stdout",
     "output_type": "stream",
     "text": [
      "Paragraph Analysis\n",
      "---------------------\n",
      "Approx. Word Count: 120\n",
      "Approx. Sentence Count: 5\n",
      "Average Sentence Length: 24.0\n",
      "Average Letters per Word: 4.6\n"
     ]
    }
   ],
   "source": [
    "file = \"paragraph_3.txt\"\n",
    "\n",
    "# read in file\n",
    "# Open the file in \"read\" mode ('r') and store the contents in the variable \"text\"\n",
    "with open(file, 'r') as text:\n",
    "    # Store all of the text inside a variable called \"lines\"\n",
    "    lines = text.read()\n",
    "\n",
    "## Describe Paragraph ##\n",
    "# word count\n",
    "word_count = len(lines.split(' '))\n",
    "\n",
    "# sentence count\n",
    "sentences = re.split(\"(?<=[.!?]) +\", lines)\n",
    "sentence_count = len(sentences)\n",
    "\n",
    "# average sentence length\n",
    "avg_sentence_len = word_count/sentence_count\n",
    "\n",
    "# average word length\n",
    "word_length = [len(word) for word in lines.split(' ')]\n",
    "word_length = np.asarray(word_length)\n",
    "word_length_avg = np.round(word_length.mean(),decimals=1)\n",
    "\n",
    "print(\"Paragraph Analysis\")\n",
    "print(\"---------------------\")\n",
    "print(f\"Approx. Word Count: {word_count}\")\n",
    "print(f\"Approx. Sentence Count: {sentence_count}\")\n",
    "print(f\"Average Sentence Length: {avg_sentence_len}\")\n",
    "print(f\"Average Letters per Word: {word_length_avg}\")"
   ]
  },
  {
   "cell_type": "code",
   "execution_count": 40,
   "metadata": {},
   "outputs": [],
   "source": [
    "def paragraph_summary(filename):\n",
    "    # read in file\n",
    "    # Open the file in \"read\" mode ('r') and store the contents in the variable \"text\"\n",
    "    with open(filename, 'r') as text:\n",
    "        # Store all of the text inside a variable called \"lines\"\n",
    "        lines = text.read()\n",
    "\n",
    "    ## Describe Paragraph ##\n",
    "    # word count\n",
    "    word_count = len(lines.split(' '))\n",
    "\n",
    "    # sentence count\n",
    "    sentences = re.split(\"(?<=[.!?]) +\", lines)\n",
    "    sentence_count = len(sentences)\n",
    "\n",
    "    # average sentence length\n",
    "    avg_sentence_len = word_count/sentence_count\n",
    "\n",
    "    # average word length\n",
    "    word_length = [len(word) for word in lines.split(' ')]\n",
    "    word_length = np.asarray(word_length)\n",
    "    word_length_avg = np.round(word_length.mean(),decimals=1)\n",
    "    \n",
    "    print(\"Paragraph Analysis\")\n",
    "    print(\"---------------------\")\n",
    "    print(f\"Approx. Word Count: {word_count}\")\n",
    "    print(f\"Approx. Sentence Count: {sentence_count}\")\n",
    "    print(f\"Average Sentence Length: {avg_sentence_len}\")\n",
    "    print(f\"Average Letters per Word: {word_length_avg}\")\n",
    "    \n",
    "    return None\n"
   ]
  },
  {
   "cell_type": "code",
   "execution_count": null,
   "metadata": {},
   "outputs": [],
   "source": [
    "paragraph_summary"
   ]
  }
 ],
 "metadata": {
  "kernelspec": {
   "display_name": "Python 3",
   "language": "python",
   "name": "python3"
  },
  "language_info": {
   "codemirror_mode": {
    "name": "ipython",
    "version": 3
   },
   "file_extension": ".py",
   "mimetype": "text/x-python",
   "name": "python",
   "nbconvert_exporter": "python",
   "pygments_lexer": "ipython3",
   "version": "3.7.3"
  }
 },
 "nbformat": 4,
 "nbformat_minor": 2
}
